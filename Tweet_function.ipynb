{
  "nbformat": 4,
  "nbformat_minor": 0,
  "metadata": {
    "colab": {
      "name": "Azizjon_Week14_CTP.ipynb",
      "provenance": []
    },
    "kernelspec": {
      "name": "python3",
      "display_name": "Python 3"
    },
    "language_info": {
      "name": "python"
    }
  },
  "cells": [
    {
      "cell_type": "code",
      "metadata": {
        "id": "wg_VBCvaW3rz"
      },
      "source": [
        "#Azizjon Kasimov"
      ],
      "execution_count": null,
      "outputs": []
    },
    {
      "cell_type": "code",
      "metadata": {
        "colab": {
          "base_uri": "https://localhost:8080/"
        },
        "id": "HTJKB5hvP54U",
        "outputId": "8fba828b-1f8e-4ff1-f85c-850345e81842"
      },
      "source": [
        "pip install tweet-preprocessor"
      ],
      "execution_count": null,
      "outputs": [
        {
          "output_type": "stream",
          "text": [
            "Requirement already satisfied: tweet-preprocessor in /usr/local/lib/python3.7/dist-packages (0.6.0)\n"
          ],
          "name": "stdout"
        }
      ]
    },
    {
      "cell_type": "code",
      "metadata": {
        "colab": {
          "base_uri": "https://localhost:8080/"
        },
        "id": "I437n2rKKYoP",
        "outputId": "c0254695-06b0-4148-b897-407f795d28d3"
      },
      "source": [
        "from google.colab import drive\n",
        "drive.mount('/content/drive')"
      ],
      "execution_count": null,
      "outputs": [
        {
          "output_type": "stream",
          "text": [
            "Drive already mounted at /content/drive; to attempt to forcibly remount, call drive.mount(\"/content/drive\", force_remount=True).\n"
          ],
          "name": "stdout"
        }
      ]
    },
    {
      "cell_type": "code",
      "metadata": {
        "id": "h-BmoppNKgy7"
      },
      "source": [
        "Path = '/content/drive/MyDrive/Tweets.txt'\n",
        "Path_2 = '/content/drive/MyDrive/ProcessedTweets.csv'\n",
        "Path_3 = '/content/drive/MyDrive/TweetsTF.csv'\n",
        "Path_4 = '/content/drive/MyDrive/TweetsSim.csv'"
      ],
      "execution_count": null,
      "outputs": []
    },
    {
      "cell_type": "code",
      "metadata": {
        "id": "l6WKbHxLFRb6",
        "colab": {
          "base_uri": "https://localhost:8080/",
          "height": 1000
        },
        "outputId": "832da1e1-a8d1-4c1e-e50b-4b564dc80a2a"
      },
      "source": [
        "import pandas as pd\n",
        "import preprocessor as p\n",
        "import matplotlib.pyplot as plt\n",
        "\n",
        "class TweetDemo:\n",
        "  def __init__(self, path):\n",
        "    self.path = path\n",
        "  \n",
        "  def read_file(self):\n",
        "    text = []\n",
        "    with open(self.path, 'r') as file:\n",
        "      for line in file:\n",
        "        text.append(line)\n",
        "      return text\n",
        "        \n",
        "  def preprocessor(self):\n",
        "    text = self.read_file()\n",
        "    e_text = []\n",
        "    for line in text:\n",
        "      e_line = p.clean(line)\n",
        "      if e_line.startswith(': : '):\n",
        "        e_line = e_line[4:]\n",
        "      elif e_line.startswith(': ') or e_line.startswith('. '):\n",
        "        e_line = e_line[2:]\n",
        "      e_text.append(e_line)\n",
        "    return e_text\n",
        "\n",
        "  def write_CSV(self, csv_path):\n",
        "    text = self.preprocessor()\n",
        "    uniq_words, words, _ = self.find_words()\n",
        "    a = [num for num in range(len(text))]\n",
        "    df = pd.DataFrame({'Pre-processedText': text, 'Words': words, 'UniqueWords': uniq_words})\n",
        "    df.to_csv(csv_path)\n",
        "    print(df)\n",
        "\n",
        "  def words_list(self):\n",
        "    text = self.preprocessor()\n",
        "    uniq_words = []\n",
        "    for line in text:\n",
        "      split_lines = line.split(' ')\n",
        "      for word in split_lines:\n",
        "        if word not in uniq_words:\n",
        "          uniq_words.append(word)\n",
        "    return uniq_words\n",
        "\n",
        "  def find_words(self):\n",
        "    text = self.preprocessor()\n",
        "    words = []\n",
        "    u_words = {}\n",
        "    line_count = 0\n",
        "    for line in text:\n",
        "      word_list = []\n",
        "      split_words = line.split(' ')\n",
        "      words.append(len(split_words))\n",
        "      u_words[line_count] = 0\n",
        "      for word in split_words:\n",
        "        if word not in word_list:\n",
        "          word_list.append(word)\n",
        "          u_words[line_count] += 1\n",
        "      line_count += 1\n",
        "    uniq_word_list = u_words.values()\n",
        "    return uniq_word_list, words, u_words\n",
        "\n",
        "  def word_freq(self):\n",
        "    text = self.preprocessor()\n",
        "    words = self.words_list()\n",
        "    freq_dict = {}\n",
        "    line_count = 0\n",
        "    for i in range(41):\n",
        "      freq_dict[i] = {}\n",
        "      for word in words:\n",
        "        freq_dict[i][word] = 0\n",
        "    for line in text:\n",
        "      splt_wrds = line.split(' ')\n",
        "      for word in splt_wrds:\n",
        "        freq_dict[line_count][word] += 1\n",
        "      line_count += 1\n",
        "    return freq_dict\n",
        "\n",
        "  #Step-4\n",
        "  def compute_freq(self, csv_path):\n",
        "    _, _, tweet_id = self.find_words()\n",
        "    words = self.words_list()\n",
        "    freq_dict = self.word_freq()\n",
        "    df = pd.DataFrame({'TweetID': tweet_id.keys()})\n",
        "    for word in words:\n",
        "      df[word] = ''\n",
        "      for i in range(41):\n",
        "        if word not in freq_dict[i]:\n",
        "          df.loc[i, word] = str(0)\n",
        "        else:\n",
        "          df.loc[i, word] = str(freq_dict[i][word])\n",
        "    df.to_csv(csv_path)\n",
        "\n",
        "    \n",
        "  #Step-5\n",
        "  def ComputeSim(self, csv_path):\n",
        "    freq_dict = self.word_freq()\n",
        "    _, _, tweet_id = self.find_words()\n",
        "    df = pd.DataFrame({'TweetID': tweet_id.keys()})\n",
        "    for i in range(41):\n",
        "      df[i] = ''\n",
        "      for j in range(41):\n",
        "        value_1 = freq_dict[i].values()\n",
        "        value_2 = freq_dict[j].values()\n",
        "        products = sum([value_1 * value_2 for value_1,value_2 in zip(value_1, value_2)])\n",
        "        value_1 = sum([num**2 for num in value_1])\n",
        "        value_2 = sum([num**2 for num in value_2])\n",
        "        # df[i][j] = products/((value_1**0.5)*(value_2**0.5))\n",
        "        df.loc[j, i] = products/((value_1**0.5)*(value_2**0.5))\n",
        "    df.to_csv(csv_path)\n",
        "    return df\n",
        "  \n",
        "  #Step-6\n",
        "  def ComputeAvgSim(self, csv_path):\n",
        "    df = self.ComputeSim(Path_4)\n",
        "    df2 = pd.read_csv(csv_path)\n",
        "    sim_list = []\n",
        "    for i in range(41):\n",
        "      temp = []\n",
        "      for j in range(41):\n",
        "        temp.append(df[i][j])\n",
        "      sim_list.append(temp)\n",
        "    df2['AvgSim'] = ''\n",
        "    count = 0\n",
        "    for elem in sim_list:\n",
        "      df2.loc[count, 'AvgSim'] = str(sum(elem)/len(elem))\n",
        "      count += 1\n",
        "    df2.to_csv(csv_path)\n",
        "    return df2\n",
        "\n",
        "  # Step-7\n",
        "  def ComputeTweetScore_and_Rank(self, csv_path):\n",
        "    df = pd.read_csv(csv_path)\n",
        "    df['TweetScore'] = ''\n",
        "    df['Rank'] = ''\n",
        "    values_dict = {}\n",
        "    sorted_dict = {}\n",
        "    temp = []\n",
        "    for i in range(41):\n",
        "      df.loc[i, 'TweetScore'] = df['Words'][i]/20 + df['AvgSim'][i]\n",
        "      score = df['TweetScore'][i]\n",
        "      values_dict[i] = score\n",
        "      temp.append(score)\n",
        "    temp.sort(reverse=True)\n",
        "    count = 0\n",
        "    for i in temp:\n",
        "      sorted_dict[i] = count\n",
        "      count += 1\n",
        "    for i in range(41):\n",
        "      df.loc[i, 'Rank'] = sorted_dict[values_dict[i]]\n",
        "    df.to_csv(csv_path)\n",
        "    return df\n",
        "\n",
        "  def makePlot(self, csv_path):\n",
        "    data = pd.read_csv(csv_path)\n",
        "    tweet_indx = data['Unnamed: 0']\n",
        "    AvgSim = data['AvgSim']\n",
        "    TweetScore = data['TweetScore']\n",
        "\n",
        "    plt.figure(figsize=(12,6))\n",
        "    plt.scatter(tweet_indx, AvgSim, label='Tweet Score')\n",
        "    plt.scatter(tweet_indx, TweetScore, label='Avg Sim')\n",
        "\n",
        "    plt.plot(tweet_indx, AvgSim)\n",
        "    plt.plot(tweet_indx, TweetScore)\n",
        "\n",
        "    plt.xlabel('Tweet Number')\n",
        "    plt.ylabel('AvgSim/TweetScore')\n",
        "    name = '/content/drive/MyDrive/TweetScorePlot.png'\n",
        "    plt.savefig(name, dpi=300)\n",
        "\n",
        "    plt.legend()\n",
        "    plt.show()\n",
        "    plt.close()\n",
        "\n",
        "\n",
        "tweets = TweetDemo(Path)\n",
        "tweets.write_CSV(Path_2)\n",
        "tweets.compute_freq(Path_3)\n",
        "tweets.ComputeSim(Path_4)\n",
        "tweets.ComputeAvgSim(Path_2)\n",
        "tweets.ComputeTweetScore_and_Rank(Path_2)\n",
        "tweets.makePlot(Path_2)"
      ],
      "execution_count": null,
      "outputs": [
        {
          "output_type": "stream",
          "text": [
            "                                    Pre-processedText  Words  UniqueWords\n",
            "0   As of Dec has deployed members of the Emergenc...     20           19\n",
            "1   PAGASA: Rains expected in Metro Manila Sunday ...     18           17\n",
            "2   expected to intensify over to hrs with max win...     20           18\n",
            "3   Areas under Alert Level C will experience wind...     20           19\n",
            "4   (Int'l name), fast approaching the PAR &amp; w...     18           18\n",
            "5   Podcast: Two al-Qaeda captives killed in rescu...     17           17\n",
            "6   Mass evacuation as Hagupit nears Philippines: ...     15           15\n",
            "7   If continues under projected track, an est mil...     20           19\n",
            "8            Typhoon Hagupit Slams Into Philippines .      6            6\n",
            "9   At least dead after Typhoon Hagupit strikes Ph...      9            9\n",
            "10  WP Tropical Storm Advisory: , kt/40 mph winds,...     16           15\n",
            "11                        NDRRMC: flights cancelled .      4            4\n",
            "12  News: Typhoon Hagupit: food aid distributions ...      8            8\n",
            "13  [UPDATED] DepEd reminds schools to take precau...     13           13\n",
            "14  To all volunteers, keep informed and alert. Ch...     18           16\n",
            "15  evacuations: people - half of the city's popul...     13           12\n",
            "16  NDRRMC and PAGASA released a list of areas dee...     16           16\n",
            "17  As of December , at :04 pm \"class suspensions ...     13           13\n",
            "18  staff prepare to respond to the needs &amp; co...     13           12\n",
            "19  Typhoon - /2m+ evacuated so far. LATEST info, ...     12           12\n",
            "20  caves, churches &amp; schools turn into evacua...     12           12\n",
            "21  ships relief to the Philippines to assist thos...     11           10\n",
            "22  RT : Energy Secretary Jericho Petilla confirms...     14           14\n",
            "23  Astronomical high tide in Calbayog, waves spla...     12           12\n",
            "24                 SAVE AND SHARE: NDRRMC hotlines \".      6            6\n",
            "25  Update: located km Southeast of Masbate City, ...     12           11\n",
            "26  Expected rainfall amount -20mm per hour (heavy...     15           15\n",
            "27  Residents start fleeing to the hills in Quinap...     11           11\n",
            "28  Our trucks loaded with food for people have no...     13           13\n",
            "29  Our emergency advice for animal owners facing ...     10           10\n",
            "30  Typhoon Hagupit churns across Philippines leav...     14           14\n",
            "31  BREAKING | Typhoon intensifies with max sustai...     18           16\n",
            "32  NDRRMC: DSWD has prepared family food packs. R...     17           17\n",
            "33  have raced hygiene kits with soap, toothpaste,...     19           19\n",
            "34  Media: For interviews on Typhoon please contac...     11           11\n",
            "35  child development centers have been affected b...     13           13\n",
            "36  homes destroyed, people killed by Typhoon Hagu...     10           10\n",
            "37  Philippines: Typhoon Hagupit Weakens, MSF Team...     15           15\n",
            "38  Vietnam Airlines changes flight schedule due t...     11           11\n",
            "39  These emergency supplies include water kits, m...     17           17\n",
            "40  Sudden increase of prices and panic buying her...     11           11\n"
          ],
          "name": "stdout"
        },
        {
          "output_type": "display_data",
          "data": {
            "image/png": "[encoded data removed]",
            "text/plain": [
              "<Figure size 864x432 with 1 Axes>"
            ]
          },
          "metadata": {
            "tags": [],
            "needs_background": "light"
          }
        }
      ]
    },
    {
      "cell_type": "code",
      "metadata": {
        "id": "Xh1nvPTTFReh",
        "colab": {
          "base_uri": "https://localhost:8080/"
        },
        "outputId": "f8c80dc5-e0f5-4635-98c4-088c13a04c16"
      },
      "source": [
        "dict1 = {0:{'word': 1}, 1: {'word2': 2}}\n",
        "dict1[1]['word2'] = 3\n",
        "dict1[1]['word3'] = 3\n",
        "dict1[2] = {}\n",
        "dict1[2]['word2'] = 1\n",
        "print(dict1)\n",
        "print(dict1[1]['word3'])"
      ],
      "execution_count": null,
      "outputs": [
        {
          "output_type": "stream",
          "text": [
            "{0: {'word': 1}, 1: {'word2': 3, 'word3': 3}, 2: {'word2': 1}}\n",
            "3\n"
          ],
          "name": "stdout"
        }
      ]
    },
    {
      "cell_type": "code",
      "metadata": {
        "id": "5wSyoBmZFRhY",
        "colab": {
          "base_uri": "https://localhost:8080/"
        },
        "outputId": "3dc57d40-361a-4f6c-90ea-4e1960de45d1"
      },
      "source": [
        "list1 = [1, 2, 3, 4, 5, 6, 7, 8, 9, 10]\n",
        "list2 = [1, 2, 3, 4, 5, 6, 7, 8, 9, 10]\n",
        "\n",
        "products = [a * b for a,b in zip(list1, list2)]\n",
        "print(sum(products))"
      ],
      "execution_count": null,
      "outputs": [
        {
          "output_type": "stream",
          "text": [
            "385\n"
          ],
          "name": "stdout"
        }
      ]
    }
  ]
}